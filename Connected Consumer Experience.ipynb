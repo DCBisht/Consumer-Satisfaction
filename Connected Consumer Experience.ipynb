{
 "cells": [
  {
   "cell_type": "code",
   "execution_count": 1,
   "id": "d146acd8",
   "metadata": {},
   "outputs": [],
   "source": [
    "import numpy as np"
   ]
  },
  {
   "cell_type": "code",
   "execution_count": 2,
   "id": "d3be6df4",
   "metadata": {},
   "outputs": [],
   "source": [
    "import pandas as pd"
   ]
  },
  {
   "cell_type": "code",
   "execution_count": 3,
   "id": "f6e0d3f0",
   "metadata": {},
   "outputs": [],
   "source": [
    "from sklearn import tree"
   ]
  },
  {
   "cell_type": "code",
   "execution_count": 4,
   "id": "3e3793ef",
   "metadata": {},
   "outputs": [],
   "source": [
    "import pydotplus"
   ]
  },
  {
   "cell_type": "code",
   "execution_count": 5,
   "id": "9ec04213",
   "metadata": {},
   "outputs": [],
   "source": [
    "from sklearn.model_selection import train_test_split"
   ]
  },
  {
   "cell_type": "code",
   "execution_count": 6,
   "id": "b7390641",
   "metadata": {},
   "outputs": [],
   "source": [
    "from sklearn.linear_model import LogisticRegression"
   ]
  },
  {
   "cell_type": "code",
   "execution_count": 7,
   "id": "eaca5291",
   "metadata": {},
   "outputs": [],
   "source": [
    "import matplotlib.pyplot as plt"
   ]
  },
  {
   "cell_type": "code",
   "execution_count": 8,
   "id": "f7e7d4a5",
   "metadata": {},
   "outputs": [],
   "source": [
    "import matplotlib.image as pltimg"
   ]
  },
  {
   "cell_type": "code",
   "execution_count": 9,
   "id": "4f752b72",
   "metadata": {},
   "outputs": [],
   "source": [
    "from sklearn.feature_extraction.text import TfidfVectorizer"
   ]
  },
  {
   "cell_type": "code",
   "execution_count": 10,
   "id": "67cd7207",
   "metadata": {},
   "outputs": [],
   "source": [
    "vect=TfidfVectorizer()"
   ]
  },
  {
   "cell_type": "code",
   "execution_count": 11,
   "id": "8a151291",
   "metadata": {},
   "outputs": [],
   "source": [
    "path='C:\\\\Users\\\\Acer\\\\Dropbox\\\\My PC (LAPTOP-5VJGRGO2)\\\\Desktop\\\\New folder\\\\Product Reviews.csv'"
   ]
  },
  {
   "cell_type": "code",
   "execution_count": 12,
   "id": "b90479b3",
   "metadata": {},
   "outputs": [
    {
     "name": "stdout",
     "output_type": "stream",
     "text": [
      "   Product Category Product Name                            Customers Reviews  \\\n",
      "0          Lipstick        Lakme  Not Fully Satisfied, Could Have Been Better   \n",
      "1          Lipstick      L'Oreal                 Super Happy, One Of The Best   \n",
      "2           Perfume     Tom Ford        Didn't Expected Much But it is useful   \n",
      "3          Lipstick        Lakme                              amm, it's okish   \n",
      "4       Nail Polish       Revlon                            Terrific Purchase   \n",
      "..              ...          ...                                          ...   \n",
      "85         Lipstick        Lakme                       Full Marks On This One   \n",
      "86      Nail Polish     Colorbar                               Just go for it   \n",
      "87      Nail Polish       Revlon                 Super Happy, One Of The Best   \n",
      "88          Perfume    Jo Malone                              Not Recommended   \n",
      "89          Perfume     Tom Ford                                    Satisfied   \n",
      "\n",
      "   Review Analysis  \n",
      "0         Negative  \n",
      "1         Positive  \n",
      "2          Neutral  \n",
      "3          Neutral  \n",
      "4         Positive  \n",
      "..             ...  \n",
      "85        Positive  \n",
      "86        Positive  \n",
      "87        Positive  \n",
      "88        Negative  \n",
      "89         Neutral  \n",
      "\n",
      "[90 rows x 4 columns]\n"
     ]
    }
   ],
   "source": [
    "df=pd.read_csv(path)\n",
    "print(df)"
   ]
  },
  {
   "cell_type": "code",
   "execution_count": 13,
   "id": "1b87b553",
   "metadata": {},
   "outputs": [
    {
     "name": "stdout",
     "output_type": "stream",
     "text": [
      "0     Not Fully Satisfied, Could Have Been Better\n",
      "1                    Super Happy, One Of The Best\n",
      "2           Didn't Expected Much But it is useful\n",
      "3                                 amm, it's okish\n",
      "4                               Terrific Purchase\n",
      "                         ...                     \n",
      "85                         Full Marks On This One\n",
      "86                                 Just go for it\n",
      "87                   Super Happy, One Of The Best\n",
      "88                                Not Recommended\n",
      "89                                      Satisfied\n",
      "Name: Customers Reviews, Length: 90, dtype: object\n",
      "0     Negative\n",
      "1     Positive\n",
      "2      Neutral\n",
      "3      Neutral\n",
      "4     Positive\n",
      "        ...   \n",
      "85    Positive\n",
      "86    Positive\n",
      "87    Positive\n",
      "88    Negative\n",
      "89     Neutral\n",
      "Name: Review Analysis, Length: 90, dtype: object\n"
     ]
    }
   ],
   "source": [
    "X=df['Customers Reviews']\n",
    "Y=df['Review Analysis']\n",
    "print(X)\n",
    "print(Y)"
   ]
  },
  {
   "cell_type": "code",
   "execution_count": 14,
   "id": "d00439c3",
   "metadata": {},
   "outputs": [],
   "source": [
    "X_train,X_test,Y_train,Y_test=train_test_split(X,Y,train_size=0.8,random_state=1)"
   ]
  },
  {
   "cell_type": "code",
   "execution_count": 15,
   "id": "9da7f67c",
   "metadata": {},
   "outputs": [],
   "source": [
    "X_train_vec=vect.fit_transform(X_train)"
   ]
  },
  {
   "cell_type": "code",
   "execution_count": 16,
   "id": "a61958d1",
   "metadata": {},
   "outputs": [],
   "source": [
    "X_test_vec=vect.transform(X_test)"
   ]
  },
  {
   "cell_type": "code",
   "execution_count": 17,
   "id": "c13cf7e4",
   "metadata": {},
   "outputs": [],
   "source": [
    "lr=LogisticRegression()"
   ]
  },
  {
   "cell_type": "code",
   "execution_count": 18,
   "id": "c38a1079",
   "metadata": {},
   "outputs": [
    {
     "data": {
      "text/plain": [
       "LogisticRegression()"
      ]
     },
     "execution_count": 18,
     "metadata": {},
     "output_type": "execute_result"
    }
   ],
   "source": [
    "lr.fit(X_train_vec,Y_train)"
   ]
  },
  {
   "cell_type": "code",
   "execution_count": 19,
   "id": "09ebfa70",
   "metadata": {},
   "outputs": [
    {
     "name": "stdout",
     "output_type": "stream",
     "text": [
      "0.7777777777777778\n"
     ]
    }
   ],
   "source": [
    "lr_score=lr.score(X_test_vec,Y_test)\n",
    "print(lr_score)"
   ]
  },
  {
   "cell_type": "code",
   "execution_count": 20,
   "id": "65d621f2",
   "metadata": {},
   "outputs": [
    {
     "data": {
      "image/png": "[encoded data removed]",
      "text/plain": [
       "<Figure size 432x288 with 1 Axes>"
      ]
     },
     "metadata": {
      "needs_background": "light"
     },
     "output_type": "display_data"
    }
   ],
   "source": [
    "plt.plot(X,Y,'o')\n",
    "plt.show()"
   ]
  },
  {
   "cell_type": "code",
   "execution_count": 21,
   "id": "6993cb2c",
   "metadata": {},
   "outputs": [],
   "source": [
    "result=lr.predict(X_test_vec)"
   ]
  },
  {
   "cell_type": "code",
   "execution_count": 22,
   "id": "2ead5d88",
   "metadata": {},
   "outputs": [
    {
     "name": "stdout",
     "output_type": "stream",
     "text": [
      "58                   Can't get enough of it\n",
      "78                       Perfect, go for it\n",
      "43                                     Nice\n",
      "55                          Rubbish Product\n",
      "87             Super Happy, One Of The Best\n",
      "74                          One of the best\n",
      "60             Just go for it without doubt\n",
      "52                             Just Awesome\n",
      "46                                     Nice\n",
      "39                   Best you can out there\n",
      "40                          One of the best\n",
      "31                                  Rubbish\n",
      "69                   Full Marks On This One\n",
      "27                           It's Wonderful\n",
      "38                       Highly Recommended\n",
      "68                   Can't get enough of it\n",
      "10                                     Nice\n",
      "2     Didn't Expected Much But it is useful\n",
      "Name: Customers Reviews, dtype: object\n",
      "['Neutral' 'Neutral' 'Neutral' 'Negative' 'Positive' 'Positive' 'Positive'\n",
      " 'Positive' 'Neutral' 'Positive' 'Positive' 'Negative' 'Positive'\n",
      " 'Positive' 'Negative' 'Neutral' 'Neutral' 'Neutral']\n"
     ]
    }
   ],
   "source": [
    "print(X_test)\n",
    "print(result)"
   ]
  },
  {
   "cell_type": "code",
   "execution_count": 29,
   "id": "7d7aa729",
   "metadata": {},
   "outputs": [],
   "source": [
    "from sklearn import metrics\n",
    "from sklearn.metrics import confusion_matrix"
   ]
  },
  {
   "cell_type": "code",
   "execution_count": 30,
   "id": "4102f0c9",
   "metadata": {},
   "outputs": [
    {
     "data": {
      "text/plain": [
       "array([[2, 0, 1],\n",
       "       [0, 6, 1],\n",
       "       [1, 1, 6]], dtype=int64)"
      ]
     },
     "execution_count": 30,
     "metadata": {},
     "output_type": "execute_result"
    }
   ],
   "source": [
    "confusion_matrix(Y_test,result)"
   ]
  },
  {
   "cell_type": "code",
   "execution_count": 32,
   "id": "5581f81d",
   "metadata": {},
   "outputs": [
    {
     "name": "stdout",
     "output_type": "stream",
     "text": [
      "              precision    recall  f1-score   support\n",
      "\n",
      "    Negative      0.667     0.667     0.667         3\n",
      "     Neutral      0.857     0.857     0.857         7\n",
      "    Positive      0.750     0.750     0.750         8\n",
      "\n",
      "    accuracy                          0.778        18\n",
      "   macro avg      0.758     0.758     0.758        18\n",
      "weighted avg      0.778     0.778     0.778        18\n",
      "\n"
     ]
    }
   ],
   "source": [
    "print(metrics.classification_report(Y_test,result,digits=3))"
   ]
  },
  {
   "cell_type": "code",
   "execution_count": null,
   "id": "6e3a1bb9",
   "metadata": {},
   "outputs": [],
   "source": []
  }
 ],
 "metadata": {
  "kernelspec": {
   "display_name": "Python 3 (ipykernel)",
   "language": "python",
   "name": "python3"
  },
  "language_info": {
   "codemirror_mode": {
    "name": "ipython",
    "version": 3
   },
   "file_extension": ".py",
   "mimetype": "text/x-python",
   "name": "python",
   "nbconvert_exporter": "python",
   "pygments_lexer": "ipython3",
   "version": "3.9.1"
  }
 },
 "nbformat": 4,
 "nbformat_minor": 5
}
